{
 "metadata": {
  "name": "",
  "signature": "sha256:80514d69c1e80731dce4d6194d10ef24824b9ee0e7065cbf79e6f872980cf7ec"
 },
 "nbformat": 3,
 "nbformat_minor": 0,
 "worksheets": [
  {
   "cells": [
    {
     "cell_type": "code",
     "collapsed": false,
     "input": [
      "from bigbang.archive import Archive\n",
      "from bigbang.thread import Thread"
     ],
     "language": "python",
     "metadata": {},
     "outputs": [],
     "prompt_number": 15
    },
    {
     "cell_type": "code",
     "collapsed": false,
     "input": [
      "def obtain_lists_threads():\n",
      "    lists = ['https://lists.wikimedia.org/pipermail/wiki-research-l/']\n",
      "    lists_threads = dict()\n",
      "    for each in lists: \n",
      "        url = each\n",
      "        arx = Archive(url,archive_dir=\"../archives\")\n",
      "        threads = arx.get_threads()\n",
      "        lists_threads[each] = threads\n",
      "    return lists_threads"
     ],
     "language": "python",
     "metadata": {},
     "outputs": [],
     "prompt_number": 16
    },
    {
     "cell_type": "code",
     "collapsed": false,
     "input": [
      "def get_clean_body(body):\n",
      "    \"\"\"This takes a body and cleans\"\"\"\n",
      "    body.split('\\n')\n",
      "    message = list()\n",
      "    for line in body.split('\\n'):\n",
      "        n = len(line)\n",
      "        if(len(line)!=0 and line[0] != '>' and line[n-6:n] != 'wrote:'):\n",
      "            message.append(line)\n",
      "    clean_body = str()\n",
      "    for line in message:\n",
      "        clean_body = clean_body + line + '\\n'\n",
      "    return clean_body"
     ],
     "language": "python",
     "metadata": {},
     "outputs": [],
     "prompt_number": 17
    },
    {
     "cell_type": "code",
     "collapsed": false,
     "input": [
      "def extract_content(threads, data_dict):\n",
      "    message_IDs = list()\n",
      "    for x in threads:\n",
      "        x_id = x.get_root().get_id()\n",
      "        if x_id not in message_IDs:\n",
      "            try: \n",
      "                body = x.get_root().data['Body']\n",
      "                if body:\n",
      "                    clean_body = get_clean_body(body)\n",
      "                    data_dict[x_id] = clean_body\n",
      "                    message_IDs.append(x_id)\n",
      "            except:\n",
      "                pass\n",
      "            for y in x.get_leaves():\n",
      "                y_id = y.get_id()\n",
      "                if y_id not in message_IDs:\n",
      "                    body = y.data['Body']\n",
      "                    if body:\n",
      "                        clean_body = get_clean_body(body)\n",
      "                        data_dict[y_id] = clean_body\n",
      "                        message_IDs.append(y_id)\n",
      "    return data_dict"
     ],
     "language": "python",
     "metadata": {},
     "outputs": [],
     "prompt_number": 18
    },
    {
     "cell_type": "code",
     "collapsed": false,
     "input": [
      "data_dict = dict()\n",
      "for threads in obtain_lists_threads().values():\n",
      "    data_dict = extract_content(threads, data_dict)"
     ],
     "language": "python",
     "metadata": {},
     "outputs": [
      {
       "output_type": "stream",
       "stream": "stdout",
       "text": [
        "No data found at https://lists.wikimedia.org/pipermail/wiki-research-l/. Attempting to collect data from URL.\n",
        "This could take a while.\n",
        "'Getting archive page for wiki-research-l'\n",
        "["
       ]
      },
      {
       "output_type": "stream",
       "stream": "stdout",
       "text": [
        "'2014-December.txt.gz',\n",
        " '2014-November.txt.gz',\n",
        " '2014-October.txt.gz',\n",
        " '2014-September.txt.gz',\n",
        " '2014-August.txt.gz',\n",
        " '2014-July.txt.gz',\n",
        " '2014-June.txt.gz',\n",
        " '2014-May.txt.gz',\n",
        " '2014-April.txt.gz',\n",
        " '2014-March.txt.gz',\n",
        " '2014-February.txt.gz',\n",
        " '2014-January.txt.gz',\n",
        " '2013-December.txt.gz',\n",
        " '2013-November.txt.gz',\n",
        " '2013-October.txt.gz',\n",
        " '2013-September.txt.gz',\n",
        " '2013-August.txt.gz',\n",
        " '2013-July.txt.gz',\n",
        " '2013-June.txt.gz',\n",
        " '2013-May.txt.gz',\n",
        " '2013-April.txt.gz',\n",
        " '2013-March.txt.gz',\n",
        " '2013-February.txt.gz',\n",
        " '2013-January.txt.gz',\n",
        " '2012-December.txt.gz',\n",
        " '2012-November.txt.gz',\n",
        " '2012-October.txt.gz',\n",
        " '2012-September.txt.gz',\n",
        " '2012-August.txt.gz',\n",
        " '2012-July.txt.gz',\n",
        " '2012-June.txt.gz',\n",
        " '2012-May.txt.gz',\n",
        " '2012-April.txt.gz',\n",
        " '2012-March.txt.gz',\n",
        " '2012-February.txt.gz',\n",
        " '2012-January.txt.gz',\n",
        " '2011-December.txt.gz',\n",
        " '2011-November.txt.gz',\n",
        " '2011-October.txt.gz',\n",
        " '2011-September.txt.gz',\n",
        " '2011-August.txt.gz',\n",
        " '2011-July.txt.gz',\n",
        " '2011-June.txt.gz',\n",
        " '2011-May.txt.gz',\n",
        " '2011-April.txt.gz',\n",
        " '2011-March.txt.gz',\n",
        " '2011-February.txt.gz',\n",
        " '2011-January.txt.gz',\n",
        " '2010-December.txt.gz',\n",
        " '2010-November.txt.gz',\n",
        " '2010-October.txt.gz',\n",
        " '2010-September.txt.gz',\n",
        " '2010-August.txt.gz',\n",
        " '2010-July.txt.gz',\n",
        " '2010-June.txt.gz',\n",
        " '2010-May.txt.gz',\n",
        " '2010-April.txt.gz',\n",
        " '2010-March.txt.gz',\n",
        " '2010-February.txt.gz',\n",
        " '2010-January.txt.gz',\n",
        " '2009-December.txt.gz',\n",
        " '2009-November.txt.gz',\n",
        " '2009-October.txt.gz',\n",
        " '2009-September.txt.gz',\n",
        " '2009-August.txt.gz',\n",
        " '2009-July.txt.gz',\n",
        " '2009-June.txt.gz',\n",
        " '2009-May.txt.gz',\n",
        " '2009-April.txt.gz',\n",
        " '2009-March.txt.gz',\n",
        " '2009-February.txt.gz',\n",
        " '2009-January.txt.gz',\n",
        " '2008-December.txt.gz',\n",
        " '2008-November.txt.gz',\n",
        " '2008-October.txt.gz',\n",
        " '2008-September.txt.gz',\n",
        " '2008-August.txt.gz',\n",
        " '2008-July.txt.gz',\n",
        " '2008-June.txt.gz',\n",
        " '2008-May.txt.gz',\n",
        " '2008-April.txt.gz',\n",
        " '2008-March.txt.gz',\n",
        " '2008-February.txt.gz',\n",
        " '2008-January.txt.gz',\n",
        " '2007-December.txt.gz',\n",
        " '2007-November.txt.gz',\n",
        " '2007-October.txt.gz',\n",
        " '2007-September.txt.gz',\n",
        " '2007-August.txt.gz',\n",
        " '2007-July.txt.gz',\n",
        " '2007-June.txt.gz',\n",
        " '2007-May.txt.gz',\n",
        " '2007-April.txt.gz',\n",
        " '2007-March.txt.gz',\n",
        " '2007-February.txt.gz',\n",
        " '2007-January.txt.gz',\n",
        " '2006-December.txt.gz',\n",
        " '2006-November.txt.gz',\n",
        " '2006-October.txt.gz',\n",
        " '2006-September.txt.gz',\n",
        " '2006-August.txt.gz',\n",
        " '2006-July.txt.gz',\n",
        " '2006-June.txt.gz',\n",
        " '2006-May.txt.gz',\n",
        " '2006-March.txt.gz',\n",
        " '2006-February.txt.gz',\n",
        " '2006-January.txt.gz',\n",
        " '2005-December.txt.gz',\n",
        " '2005-November.txt.gz',\n",
        " '2005-October.txt.gz',\n",
        " '2005-September.txt.gz',\n",
        " '2005-August.txt.gz',\n",
        " '2005-July.txt.gz',\n",
        " '2005-June.txt.gz']\n",
        "'retrieving https://lists.wikimedia.org/pipermail/wiki-research-l/2014-December.txt.gz'\n",
        "200 - writing file to archives/wiki-research-l/2014-December.txt.gz"
       ]
      },
      {
       "output_type": "stream",
       "stream": "stdout",
       "text": [
        "\n",
        "'retrieving https://lists.wikimedia.org/pipermail/wiki-research-l/2014-November.txt.gz'\n",
        "200 - writing file to archives/wiki-research-l/2014-November.txt.gz"
       ]
      },
      {
       "output_type": "stream",
       "stream": "stdout",
       "text": [
        "\n",
        "'retrieving https://lists.wikimedia.org/pipermail/wiki-research-l/2014-October.txt.gz'"
       ]
      },
      {
       "output_type": "stream",
       "stream": "stdout",
       "text": [
        "\n",
        "200 - writing file to archives/wiki-research-l/2014-October.txt.gz"
       ]
      },
      {
       "output_type": "stream",
       "stream": "stdout",
       "text": [
        "\n",
        "'retrieving https://lists.wikimedia.org/pipermail/wiki-research-l/2014-September.txt.gz'"
       ]
      },
      {
       "output_type": "stream",
       "stream": "stdout",
       "text": [
        "\n",
        "200 - writing file to archives/wiki-research-l/2014-September.txt.gz"
       ]
      },
      {
       "output_type": "stream",
       "stream": "stdout",
       "text": [
        "\n",
        "'retrieving https://lists.wikimedia.org/pipermail/wiki-research-l/2014-August.txt.gz'"
       ]
      },
      {
       "output_type": "stream",
       "stream": "stdout",
       "text": [
        "\n",
        "200 - writing file to archives/wiki-research-l/2014-August.txt.gz"
       ]
      },
      {
       "output_type": "stream",
       "stream": "stdout",
       "text": [
        "\n",
        "'retrieving https://lists.wikimedia.org/pipermail/wiki-research-l/2014-July.txt.gz'"
       ]
      },
      {
       "output_type": "stream",
       "stream": "stdout",
       "text": [
        "\n",
        "200 - writing file to archives/wiki-research-l/2014-July.txt.gz"
       ]
      },
      {
       "output_type": "stream",
       "stream": "stdout",
       "text": [
        "\n",
        "'retrieving https://lists.wikimedia.org/pipermail/wiki-research-l/2014-June.txt.gz'"
       ]
      },
      {
       "output_type": "stream",
       "stream": "stdout",
       "text": [
        "\n",
        "200 - writing file to archives/wiki-research-l/2014-June.txt.gz"
       ]
      },
      {
       "output_type": "stream",
       "stream": "stdout",
       "text": [
        "\n",
        "'retrieving https://lists.wikimedia.org/pipermail/wiki-research-l/2014-May.txt.gz'"
       ]
      },
      {
       "output_type": "stream",
       "stream": "stdout",
       "text": [
        "\n",
        "200 - writing file to archives/wiki-research-l/2014-May.txt.gz"
       ]
      },
      {
       "output_type": "stream",
       "stream": "stdout",
       "text": [
        "\n",
        "'retrieving https://lists.wikimedia.org/pipermail/wiki-research-l/2014-April.txt.gz'"
       ]
      },
      {
       "output_type": "stream",
       "stream": "stdout",
       "text": [
        "\n",
        "200 - writing file to archives/wiki-research-l/2014-April.txt.gz"
       ]
      },
      {
       "output_type": "stream",
       "stream": "stdout",
       "text": [
        "\n",
        "'retrieving https://lists.wikimedia.org/pipermail/wiki-research-l/2014-March.txt.gz'"
       ]
      },
      {
       "output_type": "stream",
       "stream": "stdout",
       "text": [
        "\n",
        "200 - writing file to archives/wiki-research-l/2014-March.txt.gz"
       ]
      },
      {
       "output_type": "stream",
       "stream": "stdout",
       "text": [
        "\n",
        "'retrieving https://lists.wikimedia.org/pipermail/wiki-research-l/2014-February.txt.gz'"
       ]
      },
      {
       "output_type": "stream",
       "stream": "stdout",
       "text": [
        "\n",
        "200 - writing file to archives/wiki-research-l/2014-February.txt.gz"
       ]
      },
      {
       "output_type": "stream",
       "stream": "stdout",
       "text": [
        "\n",
        "'retrieving https://lists.wikimedia.org/pipermail/wiki-research-l/2014-January.txt.gz'"
       ]
      },
      {
       "output_type": "stream",
       "stream": "stdout",
       "text": [
        "\n",
        "200 - writing file to archives/wiki-research-l/2014-January.txt.gz"
       ]
      },
      {
       "output_type": "stream",
       "stream": "stdout",
       "text": [
        "\n",
        "'retrieving https://lists.wikimedia.org/pipermail/wiki-research-l/2013-December.txt.gz'"
       ]
      },
      {
       "output_type": "stream",
       "stream": "stdout",
       "text": [
        "\n",
        "200 - writing file to archives/wiki-research-l/2013-December.txt.gz"
       ]
      },
      {
       "output_type": "stream",
       "stream": "stdout",
       "text": [
        "\n",
        "'retrieving https://lists.wikimedia.org/pipermail/wiki-research-l/2013-November.txt.gz'"
       ]
      },
      {
       "output_type": "stream",
       "stream": "stdout",
       "text": [
        "\n",
        "200 - writing file to archives/wiki-research-l/2013-November.txt.gz"
       ]
      },
      {
       "output_type": "stream",
       "stream": "stdout",
       "text": [
        "\n",
        "'retrieving https://lists.wikimedia.org/pipermail/wiki-research-l/2013-October.txt.gz'"
       ]
      },
      {
       "output_type": "stream",
       "stream": "stdout",
       "text": [
        "\n",
        "200 - writing file to archives/wiki-research-l/2013-October.txt.gz"
       ]
      },
      {
       "output_type": "stream",
       "stream": "stdout",
       "text": [
        "\n",
        "'retrieving https://lists.wikimedia.org/pipermail/wiki-research-l/2013-September.txt.gz'"
       ]
      },
      {
       "output_type": "stream",
       "stream": "stdout",
       "text": [
        "\n",
        "200 - writing file to archives/wiki-research-l/2013-September.txt.gz"
       ]
      },
      {
       "output_type": "stream",
       "stream": "stdout",
       "text": [
        "\n",
        "'retrieving https://lists.wikimedia.org/pipermail/wiki-research-l/2013-August.txt.gz'"
       ]
      },
      {
       "output_type": "stream",
       "stream": "stdout",
       "text": [
        "\n",
        "200 - writing file to archives/wiki-research-l/2013-August.txt.gz"
       ]
      },
      {
       "output_type": "stream",
       "stream": "stdout",
       "text": [
        "\n",
        "'retrieving https://lists.wikimedia.org/pipermail/wiki-research-l/2013-July.txt.gz'"
       ]
      },
      {
       "output_type": "stream",
       "stream": "stdout",
       "text": [
        "\n",
        "200 - writing file to archives/wiki-research-l/2013-July.txt.gz"
       ]
      },
      {
       "output_type": "stream",
       "stream": "stdout",
       "text": [
        "\n",
        "'retrieving https://lists.wikimedia.org/pipermail/wiki-research-l/2013-June.txt.gz'"
       ]
      },
      {
       "output_type": "stream",
       "stream": "stdout",
       "text": [
        "\n",
        "200 - writing file to archives/wiki-research-l/2013-June.txt.gz"
       ]
      },
      {
       "output_type": "stream",
       "stream": "stdout",
       "text": [
        "\n",
        "'retrieving https://lists.wikimedia.org/pipermail/wiki-research-l/2013-May.txt.gz'"
       ]
      },
      {
       "output_type": "stream",
       "stream": "stdout",
       "text": [
        "\n",
        "200 - writing file to archives/wiki-research-l/2013-May.txt.gz"
       ]
      },
      {
       "output_type": "stream",
       "stream": "stdout",
       "text": [
        "\n",
        "'retrieving https://lists.wikimedia.org/pipermail/wiki-research-l/2013-April.txt.gz'"
       ]
      },
      {
       "output_type": "stream",
       "stream": "stdout",
       "text": [
        "\n",
        "200 - writing file to archives/wiki-research-l/2013-April.txt.gz"
       ]
      },
      {
       "output_type": "stream",
       "stream": "stdout",
       "text": [
        "\n",
        "'retrieving https://lists.wikimedia.org/pipermail/wiki-research-l/2013-March.txt.gz'"
       ]
      },
      {
       "output_type": "stream",
       "stream": "stdout",
       "text": [
        "\n",
        "200 - writing file to archives/wiki-research-l/2013-March.txt.gz"
       ]
      },
      {
       "output_type": "stream",
       "stream": "stdout",
       "text": [
        "\n",
        "'retrieving https://lists.wikimedia.org/pipermail/wiki-research-l/2013-February.txt.gz'"
       ]
      },
      {
       "output_type": "stream",
       "stream": "stdout",
       "text": [
        "\n",
        "200 - writing file to archives/wiki-research-l/2013-February.txt.gz"
       ]
      },
      {
       "output_type": "stream",
       "stream": "stdout",
       "text": [
        "\n",
        "'retrieving https://lists.wikimedia.org/pipermail/wiki-research-l/2013-January.txt.gz'"
       ]
      },
      {
       "output_type": "stream",
       "stream": "stdout",
       "text": [
        "\n",
        "200 - writing file to archives/wiki-research-l/2013-January.txt.gz"
       ]
      },
      {
       "output_type": "stream",
       "stream": "stdout",
       "text": [
        "\n",
        "'retrieving https://lists.wikimedia.org/pipermail/wiki-research-l/2012-December.txt.gz'"
       ]
      },
      {
       "output_type": "stream",
       "stream": "stdout",
       "text": [
        "\n",
        "200 - writing file to archives/wiki-research-l/2012-December.txt.gz"
       ]
      },
      {
       "output_type": "stream",
       "stream": "stdout",
       "text": [
        "\n",
        "'retrieving https://lists.wikimedia.org/pipermail/wiki-research-l/2012-November.txt.gz'"
       ]
      },
      {
       "output_type": "stream",
       "stream": "stdout",
       "text": [
        "\n",
        "200 - writing file to archives/wiki-research-l/2012-November.txt.gz"
       ]
      },
      {
       "output_type": "stream",
       "stream": "stdout",
       "text": [
        "\n",
        "'retrieving https://lists.wikimedia.org/pipermail/wiki-research-l/2012-October.txt.gz'"
       ]
      },
      {
       "output_type": "stream",
       "stream": "stdout",
       "text": [
        "\n",
        "200 - writing file to archives/wiki-research-l/2012-October.txt.gz"
       ]
      },
      {
       "output_type": "stream",
       "stream": "stdout",
       "text": [
        "\n",
        "'retrieving https://lists.wikimedia.org/pipermail/wiki-research-l/2012-September.txt.gz'"
       ]
      },
      {
       "output_type": "stream",
       "stream": "stdout",
       "text": [
        "\n",
        "200 - writing file to archives/wiki-research-l/2012-September.txt.gz"
       ]
      },
      {
       "output_type": "stream",
       "stream": "stdout",
       "text": [
        "\n",
        "'retrieving https://lists.wikimedia.org/pipermail/wiki-research-l/2012-August.txt.gz'"
       ]
      },
      {
       "output_type": "stream",
       "stream": "stdout",
       "text": [
        "\n",
        "200 - writing file to archives/wiki-research-l/2012-August.txt.gz"
       ]
      },
      {
       "output_type": "stream",
       "stream": "stdout",
       "text": [
        "\n",
        "'retrieving https://lists.wikimedia.org/pipermail/wiki-research-l/2012-July.txt.gz'\n",
        "200 - writing file to archives/wiki-research-l/2012-July.txt.gz"
       ]
      },
      {
       "output_type": "stream",
       "stream": "stdout",
       "text": [
        "\n",
        "'retrieving https://lists.wikimedia.org/pipermail/wiki-research-l/2012-June.txt.gz'"
       ]
      },
      {
       "output_type": "stream",
       "stream": "stdout",
       "text": [
        "\n",
        "200 - writing file to archives/wiki-research-l/2012-June.txt.gz"
       ]
      },
      {
       "output_type": "stream",
       "stream": "stdout",
       "text": [
        "\n",
        "'retrieving https://lists.wikimedia.org/pipermail/wiki-research-l/2012-May.txt.gz'"
       ]
      },
      {
       "output_type": "stream",
       "stream": "stdout",
       "text": [
        "\n",
        "200 - writing file to archives/wiki-research-l/2012-May.txt.gz"
       ]
      },
      {
       "output_type": "stream",
       "stream": "stdout",
       "text": [
        "\n",
        "'retrieving https://lists.wikimedia.org/pipermail/wiki-research-l/2012-April.txt.gz'"
       ]
      },
      {
       "output_type": "stream",
       "stream": "stdout",
       "text": [
        "\n",
        "200 - writing file to archives/wiki-research-l/2012-April.txt.gz"
       ]
      },
      {
       "output_type": "stream",
       "stream": "stdout",
       "text": [
        "\n",
        "'retrieving https://lists.wikimedia.org/pipermail/wiki-research-l/2012-March.txt.gz'"
       ]
      },
      {
       "output_type": "stream",
       "stream": "stdout",
       "text": [
        "\n",
        "200 - writing file to archives/wiki-research-l/2012-March.txt.gz"
       ]
      },
      {
       "output_type": "stream",
       "stream": "stdout",
       "text": [
        "\n",
        "'retrieving https://lists.wikimedia.org/pipermail/wiki-research-l/2012-February.txt.gz'"
       ]
      },
      {
       "output_type": "stream",
       "stream": "stdout",
       "text": [
        "\n",
        "200 - writing file to archives/wiki-research-l/2012-February.txt.gz"
       ]
      },
      {
       "output_type": "stream",
       "stream": "stdout",
       "text": [
        "\n",
        "'retrieving https://lists.wikimedia.org/pipermail/wiki-research-l/2012-January.txt.gz'"
       ]
      },
      {
       "output_type": "stream",
       "stream": "stdout",
       "text": [
        "\n",
        "200 - writing file to archives/wiki-research-l/2012-January.txt.gz"
       ]
      },
      {
       "output_type": "stream",
       "stream": "stdout",
       "text": [
        "\n",
        "'retrieving https://lists.wikimedia.org/pipermail/wiki-research-l/2011-December.txt.gz'"
       ]
      },
      {
       "output_type": "stream",
       "stream": "stdout",
       "text": [
        "\n",
        "200 - writing file to archives/wiki-research-l/2011-December.txt.gz"
       ]
      },
      {
       "output_type": "stream",
       "stream": "stdout",
       "text": [
        "\n",
        "'retrieving https://lists.wikimedia.org/pipermail/wiki-research-l/2011-November.txt.gz'"
       ]
      },
      {
       "output_type": "stream",
       "stream": "stdout",
       "text": [
        "\n",
        "200 - writing file to archives/wiki-research-l/2011-November.txt.gz"
       ]
      },
      {
       "output_type": "stream",
       "stream": "stdout",
       "text": [
        "\n",
        "'retrieving https://lists.wikimedia.org/pipermail/wiki-research-l/2011-October.txt.gz'"
       ]
      },
      {
       "output_type": "stream",
       "stream": "stdout",
       "text": [
        "\n",
        "200 - writing file to archives/wiki-research-l/2011-October.txt.gz"
       ]
      },
      {
       "output_type": "stream",
       "stream": "stdout",
       "text": [
        "\n",
        "'retrieving https://lists.wikimedia.org/pipermail/wiki-research-l/2011-September.txt.gz'\n",
        "200 - writing file to archives/wiki-research-l/2011-September.txt.gz"
       ]
      },
      {
       "output_type": "stream",
       "stream": "stdout",
       "text": [
        "\n",
        "'retrieving https://lists.wikimedia.org/pipermail/wiki-research-l/2011-August.txt.gz'"
       ]
      },
      {
       "output_type": "stream",
       "stream": "stdout",
       "text": [
        "\n",
        "200 - writing file to archives/wiki-research-l/2011-August.txt.gz"
       ]
      },
      {
       "output_type": "stream",
       "stream": "stdout",
       "text": [
        "\n",
        "'retrieving https://lists.wikimedia.org/pipermail/wiki-research-l/2011-July.txt.gz'"
       ]
      },
      {
       "output_type": "stream",
       "stream": "stdout",
       "text": [
        "\n",
        "200 - writing file to archives/wiki-research-l/2011-July.txt.gz"
       ]
      },
      {
       "output_type": "stream",
       "stream": "stdout",
       "text": [
        "\n",
        "'retrieving https://lists.wikimedia.org/pipermail/wiki-research-l/2011-June.txt.gz'\n",
        "200 - writing file to archives/wiki-research-l/2011-June.txt.gz"
       ]
      },
      {
       "output_type": "stream",
       "stream": "stdout",
       "text": [
        "\n",
        "'retrieving https://lists.wikimedia.org/pipermail/wiki-research-l/2011-May.txt.gz'"
       ]
      },
      {
       "output_type": "stream",
       "stream": "stdout",
       "text": [
        "\n",
        "200 - writing file to archives/wiki-research-l/2011-May.txt.gz"
       ]
      },
      {
       "output_type": "stream",
       "stream": "stdout",
       "text": [
        "\n",
        "'retrieving https://lists.wikimedia.org/pipermail/wiki-research-l/2011-April.txt.gz'"
       ]
      },
      {
       "output_type": "stream",
       "stream": "stdout",
       "text": [
        "\n",
        "200 - writing file to archives/wiki-research-l/2011-April.txt.gz"
       ]
      },
      {
       "output_type": "stream",
       "stream": "stdout",
       "text": [
        "\n",
        "'retrieving https://lists.wikimedia.org/pipermail/wiki-research-l/2011-March.txt.gz'"
       ]
      },
      {
       "output_type": "stream",
       "stream": "stdout",
       "text": [
        "\n",
        "200 - writing file to archives/wiki-research-l/2011-March.txt.gz"
       ]
      },
      {
       "output_type": "stream",
       "stream": "stdout",
       "text": [
        "\n",
        "'retrieving https://lists.wikimedia.org/pipermail/wiki-research-l/2011-February.txt.gz'"
       ]
      },
      {
       "output_type": "stream",
       "stream": "stdout",
       "text": [
        "\n",
        "200 - writing file to archives/wiki-research-l/2011-February.txt.gz"
       ]
      },
      {
       "output_type": "stream",
       "stream": "stdout",
       "text": [
        "\n",
        "'retrieving https://lists.wikimedia.org/pipermail/wiki-research-l/2011-January.txt.gz'"
       ]
      },
      {
       "output_type": "stream",
       "stream": "stdout",
       "text": [
        "\n",
        "200 - writing file to archives/wiki-research-l/2011-January.txt.gz"
       ]
      },
      {
       "output_type": "stream",
       "stream": "stdout",
       "text": [
        "\n",
        "'retrieving https://lists.wikimedia.org/pipermail/wiki-research-l/2010-December.txt.gz'"
       ]
      },
      {
       "output_type": "stream",
       "stream": "stdout",
       "text": [
        "\n",
        "200 - writing file to archives/wiki-research-l/2010-December.txt.gz"
       ]
      },
      {
       "output_type": "stream",
       "stream": "stdout",
       "text": [
        "\n",
        "'retrieving https://lists.wikimedia.org/pipermail/wiki-research-l/2010-November.txt.gz'"
       ]
      },
      {
       "output_type": "stream",
       "stream": "stdout",
       "text": [
        "\n",
        "200 - writing file to archives/wiki-research-l/2010-November.txt.gz"
       ]
      },
      {
       "output_type": "stream",
       "stream": "stdout",
       "text": [
        "\n",
        "'retrieving https://lists.wikimedia.org/pipermail/wiki-research-l/2010-October.txt.gz'\n",
        "200 - writing file to archives/wiki-research-l/2010-October.txt.gz"
       ]
      },
      {
       "output_type": "stream",
       "stream": "stdout",
       "text": [
        "\n",
        "'retrieving https://lists.wikimedia.org/pipermail/wiki-research-l/2010-September.txt.gz'"
       ]
      },
      {
       "output_type": "stream",
       "stream": "stdout",
       "text": [
        "\n",
        "200 - writing file to archives/wiki-research-l/2010-September.txt.gz"
       ]
      },
      {
       "output_type": "stream",
       "stream": "stdout",
       "text": [
        "\n",
        "'retrieving https://lists.wikimedia.org/pipermail/wiki-research-l/2010-August.txt.gz'\n",
        "200 - writing file to archives/wiki-research-l/2010-August.txt.gz"
       ]
      },
      {
       "output_type": "stream",
       "stream": "stdout",
       "text": [
        "\n",
        "'retrieving https://lists.wikimedia.org/pipermail/wiki-research-l/2010-July.txt.gz'"
       ]
      },
      {
       "output_type": "stream",
       "stream": "stdout",
       "text": [
        "\n",
        "200 - writing file to archives/wiki-research-l/2010-July.txt.gz"
       ]
      },
      {
       "output_type": "stream",
       "stream": "stdout",
       "text": [
        "\n",
        "'retrieving https://lists.wikimedia.org/pipermail/wiki-research-l/2010-June.txt.gz'"
       ]
      },
      {
       "output_type": "stream",
       "stream": "stdout",
       "text": [
        "\n",
        "200 - writing file to archives/wiki-research-l/2010-June.txt.gz"
       ]
      },
      {
       "output_type": "stream",
       "stream": "stdout",
       "text": [
        "\n",
        "'retrieving https://lists.wikimedia.org/pipermail/wiki-research-l/2010-May.txt.gz'"
       ]
      },
      {
       "output_type": "stream",
       "stream": "stdout",
       "text": [
        "\n",
        "200 - writing file to archives/wiki-research-l/2010-May.txt.gz"
       ]
      },
      {
       "output_type": "stream",
       "stream": "stdout",
       "text": [
        "\n",
        "'retrieving https://lists.wikimedia.org/pipermail/wiki-research-l/2010-April.txt.gz'"
       ]
      },
      {
       "output_type": "stream",
       "stream": "stdout",
       "text": [
        "\n",
        "200 - writing file to archives/wiki-research-l/2010-April.txt.gz"
       ]
      },
      {
       "output_type": "stream",
       "stream": "stdout",
       "text": [
        "\n",
        "'retrieving https://lists.wikimedia.org/pipermail/wiki-research-l/2010-March.txt.gz'"
       ]
      },
      {
       "output_type": "stream",
       "stream": "stdout",
       "text": [
        "\n",
        "200 - writing file to archives/wiki-research-l/2010-March.txt.gz"
       ]
      },
      {
       "output_type": "stream",
       "stream": "stdout",
       "text": [
        "\n",
        "'retrieving https://lists.wikimedia.org/pipermail/wiki-research-l/2010-February.txt.gz'\n",
        "200 - writing file to archives/wiki-research-l/2010-February.txt.gz"
       ]
      },
      {
       "output_type": "stream",
       "stream": "stdout",
       "text": [
        "\n",
        "'retrieving https://lists.wikimedia.org/pipermail/wiki-research-l/2010-January.txt.gz'\n",
        "200 - writing file to archives/wiki-research-l/2010-January.txt.gz"
       ]
      },
      {
       "output_type": "stream",
       "stream": "stdout",
       "text": [
        "\n",
        "'retrieving https://lists.wikimedia.org/pipermail/wiki-research-l/2009-December.txt.gz'\n",
        "200 - writing file to archives/wiki-research-l/2009-December.txt.gz"
       ]
      },
      {
       "output_type": "stream",
       "stream": "stdout",
       "text": [
        "\n",
        "'retrieving https://lists.wikimedia.org/pipermail/wiki-research-l/2009-November.txt.gz'\n",
        "200 - writing file to archives/wiki-research-l/2009-November.txt.gz"
       ]
      },
      {
       "output_type": "stream",
       "stream": "stdout",
       "text": [
        "\n",
        "'retrieving https://lists.wikimedia.org/pipermail/wiki-research-l/2009-October.txt.gz'"
       ]
      },
      {
       "output_type": "stream",
       "stream": "stdout",
       "text": [
        "\n",
        "200 - writing file to archives/wiki-research-l/2009-October.txt.gz"
       ]
      },
      {
       "output_type": "stream",
       "stream": "stdout",
       "text": [
        "\n",
        "'retrieving https://lists.wikimedia.org/pipermail/wiki-research-l/2009-September.txt.gz'\n",
        "200 - writing file to archives/wiki-research-l/2009-September.txt.gz"
       ]
      },
      {
       "output_type": "stream",
       "stream": "stdout",
       "text": [
        "\n",
        "'retrieving https://lists.wikimedia.org/pipermail/wiki-research-l/2009-August.txt.gz'\n",
        "200 - writing file to archives/wiki-research-l/2009-August.txt.gz"
       ]
      },
      {
       "output_type": "stream",
       "stream": "stdout",
       "text": [
        "\n",
        "'retrieving https://lists.wikimedia.org/pipermail/wiki-research-l/2009-July.txt.gz'\n",
        "200 - writing file to archives/wiki-research-l/2009-July.txt.gz"
       ]
      },
      {
       "output_type": "stream",
       "stream": "stdout",
       "text": [
        "\n",
        "'retrieving https://lists.wikimedia.org/pipermail/wiki-research-l/2009-June.txt.gz'\n",
        "200 - writing file to archives/wiki-research-l/2009-June.txt.gz"
       ]
      },
      {
       "output_type": "stream",
       "stream": "stdout",
       "text": [
        "\n",
        "'retrieving https://lists.wikimedia.org/pipermail/wiki-research-l/2009-May.txt.gz'\n",
        "200 - writing file to archives/wiki-research-l/2009-May.txt.gz"
       ]
      },
      {
       "output_type": "stream",
       "stream": "stdout",
       "text": [
        "\n",
        "'retrieving https://lists.wikimedia.org/pipermail/wiki-research-l/2009-April.txt.gz'\n",
        "200 - writing file to archives/wiki-research-l/2009-April.txt.gz"
       ]
      },
      {
       "output_type": "stream",
       "stream": "stdout",
       "text": [
        "\n",
        "'retrieving https://lists.wikimedia.org/pipermail/wiki-research-l/2009-March.txt.gz'\n",
        "200 - writing file to archives/wiki-research-l/2009-March.txt.gz"
       ]
      },
      {
       "output_type": "stream",
       "stream": "stdout",
       "text": [
        "\n",
        "'retrieving https://lists.wikimedia.org/pipermail/wiki-research-l/2009-February.txt.gz'\n",
        "200 - writing file to archives/wiki-research-l/2009-February.txt.gz"
       ]
      },
      {
       "output_type": "stream",
       "stream": "stdout",
       "text": [
        "\n",
        "'retrieving https://lists.wikimedia.org/pipermail/wiki-research-l/2009-January.txt.gz'\n",
        "200 - writing file to archives/wiki-research-l/2009-January.txt.gz"
       ]
      },
      {
       "output_type": "stream",
       "stream": "stdout",
       "text": [
        "\n",
        "'retrieving https://lists.wikimedia.org/pipermail/wiki-research-l/2008-December.txt.gz'"
       ]
      },
      {
       "output_type": "stream",
       "stream": "stdout",
       "text": [
        "\n",
        "200 - writing file to archives/wiki-research-l/2008-December.txt.gz"
       ]
      },
      {
       "output_type": "stream",
       "stream": "stdout",
       "text": [
        "\n",
        "'retrieving https://lists.wikimedia.org/pipermail/wiki-research-l/2008-November.txt.gz'"
       ]
      },
      {
       "output_type": "stream",
       "stream": "stdout",
       "text": [
        "\n",
        "200 - writing file to archives/wiki-research-l/2008-November.txt.gz"
       ]
      },
      {
       "output_type": "stream",
       "stream": "stdout",
       "text": [
        "\n",
        "'retrieving https://lists.wikimedia.org/pipermail/wiki-research-l/2008-October.txt.gz'"
       ]
      },
      {
       "output_type": "stream",
       "stream": "stdout",
       "text": [
        "\n",
        "200 - writing file to archives/wiki-research-l/2008-October.txt.gz"
       ]
      },
      {
       "output_type": "stream",
       "stream": "stdout",
       "text": [
        "\n",
        "'retrieving https://lists.wikimedia.org/pipermail/wiki-research-l/2008-September.txt.gz'"
       ]
      },
      {
       "output_type": "stream",
       "stream": "stdout",
       "text": [
        "\n",
        "200 - writing file to archives/wiki-research-l/2008-September.txt.gz"
       ]
      },
      {
       "output_type": "stream",
       "stream": "stdout",
       "text": [
        "\n",
        "'retrieving https://lists.wikimedia.org/pipermail/wiki-research-l/2008-August.txt.gz'\n",
        "200 - writing file to archives/wiki-research-l/2008-August.txt.gz"
       ]
      },
      {
       "output_type": "stream",
       "stream": "stdout",
       "text": [
        "\n",
        "'retrieving https://lists.wikimedia.org/pipermail/wiki-research-l/2008-July.txt.gz'\n",
        "200 - writing file to archives/wiki-research-l/2008-July.txt.gz"
       ]
      },
      {
       "output_type": "stream",
       "stream": "stdout",
       "text": [
        "\n",
        "'retrieving https://lists.wikimedia.org/pipermail/wiki-research-l/2008-June.txt.gz'\n",
        "200 - writing file to archives/wiki-research-l/2008-June.txt.gz"
       ]
      },
      {
       "output_type": "stream",
       "stream": "stdout",
       "text": [
        "\n",
        "'retrieving https://lists.wikimedia.org/pipermail/wiki-research-l/2008-May.txt.gz'\n",
        "200 - writing file to archives/wiki-research-l/2008-May.txt.gz"
       ]
      },
      {
       "output_type": "stream",
       "stream": "stdout",
       "text": [
        "\n",
        "'retrieving https://lists.wikimedia.org/pipermail/wiki-research-l/2008-April.txt.gz'"
       ]
      },
      {
       "output_type": "stream",
       "stream": "stdout",
       "text": [
        "\n",
        "200 - writing file to archives/wiki-research-l/2008-April.txt.gz"
       ]
      },
      {
       "output_type": "stream",
       "stream": "stdout",
       "text": [
        "\n",
        "'retrieving https://lists.wikimedia.org/pipermail/wiki-research-l/2008-March.txt.gz'"
       ]
      },
      {
       "output_type": "stream",
       "stream": "stdout",
       "text": [
        "\n",
        "200 - writing file to archives/wiki-research-l/2008-March.txt.gz"
       ]
      },
      {
       "output_type": "stream",
       "stream": "stdout",
       "text": [
        "\n",
        "'retrieving https://lists.wikimedia.org/pipermail/wiki-research-l/2008-February.txt.gz'\n",
        "200 - writing file to archives/wiki-research-l/2008-February.txt.gz"
       ]
      },
      {
       "output_type": "stream",
       "stream": "stdout",
       "text": [
        "\n",
        "'retrieving https://lists.wikimedia.org/pipermail/wiki-research-l/2008-January.txt.gz'"
       ]
      },
      {
       "output_type": "stream",
       "stream": "stdout",
       "text": [
        "\n",
        "200 - writing file to archives/wiki-research-l/2008-January.txt.gz"
       ]
      },
      {
       "output_type": "stream",
       "stream": "stdout",
       "text": [
        "\n",
        "'retrieving https://lists.wikimedia.org/pipermail/wiki-research-l/2007-December.txt.gz'\n",
        "200 - writing file to archives/wiki-research-l/2007-December.txt.gz"
       ]
      },
      {
       "output_type": "stream",
       "stream": "stdout",
       "text": [
        "\n",
        "'retrieving https://lists.wikimedia.org/pipermail/wiki-research-l/2007-November.txt.gz'\n",
        "200 - writing file to archives/wiki-research-l/2007-November.txt.gz"
       ]
      },
      {
       "output_type": "stream",
       "stream": "stdout",
       "text": [
        "\n",
        "'retrieving https://lists.wikimedia.org/pipermail/wiki-research-l/2007-October.txt.gz'\n",
        "200 - writing file to archives/wiki-research-l/2007-October.txt.gz"
       ]
      },
      {
       "output_type": "stream",
       "stream": "stdout",
       "text": [
        "\n",
        "'retrieving https://lists.wikimedia.org/pipermail/wiki-research-l/2007-September.txt.gz'\n",
        "200 - writing file to archives/wiki-research-l/2007-September.txt.gz"
       ]
      },
      {
       "output_type": "stream",
       "stream": "stdout",
       "text": [
        "\n",
        "'retrieving https://lists.wikimedia.org/pipermail/wiki-research-l/2007-August.txt.gz'\n",
        "200 - writing file to archives/wiki-research-l/2007-August.txt.gz"
       ]
      },
      {
       "output_type": "stream",
       "stream": "stdout",
       "text": [
        "\n",
        "'retrieving https://lists.wikimedia.org/pipermail/wiki-research-l/2007-July.txt.gz'"
       ]
      },
      {
       "output_type": "stream",
       "stream": "stdout",
       "text": [
        "\n",
        "200 - writing file to archives/wiki-research-l/2007-July.txt.gz"
       ]
      },
      {
       "output_type": "stream",
       "stream": "stdout",
       "text": [
        "\n",
        "'retrieving https://lists.wikimedia.org/pipermail/wiki-research-l/2007-June.txt.gz'"
       ]
      },
      {
       "output_type": "stream",
       "stream": "stdout",
       "text": [
        "\n",
        "200 - writing file to archives/wiki-research-l/2007-June.txt.gz"
       ]
      },
      {
       "output_type": "stream",
       "stream": "stdout",
       "text": [
        "\n",
        "'retrieving https://lists.wikimedia.org/pipermail/wiki-research-l/2007-May.txt.gz'\n",
        "200 - writing file to archives/wiki-research-l/2007-May.txt.gz"
       ]
      },
      {
       "output_type": "stream",
       "stream": "stdout",
       "text": [
        "\n",
        "'retrieving https://lists.wikimedia.org/pipermail/wiki-research-l/2007-April.txt.gz'\n",
        "200 - writing file to archives/wiki-research-l/2007-April.txt.gz"
       ]
      },
      {
       "output_type": "stream",
       "stream": "stdout",
       "text": [
        "\n",
        "'retrieving https://lists.wikimedia.org/pipermail/wiki-research-l/2007-March.txt.gz'\n",
        "200 - writing file to archives/wiki-research-l/2007-March.txt.gz"
       ]
      },
      {
       "output_type": "stream",
       "stream": "stdout",
       "text": [
        "\n",
        "'retrieving https://lists.wikimedia.org/pipermail/wiki-research-l/2007-February.txt.gz'"
       ]
      },
      {
       "output_type": "stream",
       "stream": "stdout",
       "text": [
        "\n",
        "200 - writing file to archives/wiki-research-l/2007-February.txt.gz"
       ]
      },
      {
       "output_type": "stream",
       "stream": "stdout",
       "text": [
        "\n",
        "'retrieving https://lists.wikimedia.org/pipermail/wiki-research-l/2007-January.txt.gz'\n",
        "200 - writing file to archives/wiki-research-l/2007-January.txt.gz"
       ]
      },
      {
       "output_type": "stream",
       "stream": "stdout",
       "text": [
        "\n",
        "'retrieving https://lists.wikimedia.org/pipermail/wiki-research-l/2006-December.txt.gz'\n",
        "200 - writing file to archives/wiki-research-l/2006-December.txt.gz"
       ]
      },
      {
       "output_type": "stream",
       "stream": "stdout",
       "text": [
        "\n",
        "'retrieving https://lists.wikimedia.org/pipermail/wiki-research-l/2006-November.txt.gz'\n",
        "200 - writing file to archives/wiki-research-l/2006-November.txt.gz"
       ]
      },
      {
       "output_type": "stream",
       "stream": "stdout",
       "text": [
        "\n",
        "'retrieving https://lists.wikimedia.org/pipermail/wiki-research-l/2006-October.txt.gz'\n",
        "200 - writing file to archives/wiki-research-l/2006-October.txt.gz"
       ]
      },
      {
       "output_type": "stream",
       "stream": "stdout",
       "text": [
        "\n",
        "'retrieving https://lists.wikimedia.org/pipermail/wiki-research-l/2006-September.txt.gz'\n",
        "200 - writing file to archives/wiki-research-l/2006-September.txt.gz"
       ]
      },
      {
       "output_type": "stream",
       "stream": "stdout",
       "text": [
        "\n",
        "'retrieving https://lists.wikimedia.org/pipermail/wiki-research-l/2006-August.txt.gz'\n",
        "200 - writing file to archives/wiki-research-l/2006-August.txt.gz"
       ]
      },
      {
       "output_type": "stream",
       "stream": "stdout",
       "text": [
        "\n",
        "'retrieving https://lists.wikimedia.org/pipermail/wiki-research-l/2006-July.txt.gz'\n",
        "200 - writing file to archives/wiki-research-l/2006-July.txt.gz"
       ]
      },
      {
       "output_type": "stream",
       "stream": "stdout",
       "text": [
        "\n",
        "'retrieving https://lists.wikimedia.org/pipermail/wiki-research-l/2006-June.txt.gz'\n",
        "200 - writing file to archives/wiki-research-l/2006-June.txt.gz"
       ]
      },
      {
       "output_type": "stream",
       "stream": "stdout",
       "text": [
        "\n",
        "'retrieving https://lists.wikimedia.org/pipermail/wiki-research-l/2006-May.txt.gz'\n",
        "200 - writing file to archives/wiki-research-l/2006-May.txt.gz"
       ]
      },
      {
       "output_type": "stream",
       "stream": "stdout",
       "text": [
        "\n",
        "'retrieving https://lists.wikimedia.org/pipermail/wiki-research-l/2006-March.txt.gz'\n",
        "200 - writing file to archives/wiki-research-l/2006-March.txt.gz"
       ]
      },
      {
       "output_type": "stream",
       "stream": "stdout",
       "text": [
        "\n",
        "'retrieving https://lists.wikimedia.org/pipermail/wiki-research-l/2006-February.txt.gz'\n",
        "200 - writing file to archives/wiki-research-l/2006-February.txt.gz"
       ]
      },
      {
       "output_type": "stream",
       "stream": "stdout",
       "text": [
        "\n",
        "'retrieving https://lists.wikimedia.org/pipermail/wiki-research-l/2006-January.txt.gz'\n",
        "200 - writing file to archives/wiki-research-l/2006-January.txt.gz"
       ]
      },
      {
       "output_type": "stream",
       "stream": "stdout",
       "text": [
        "\n",
        "'retrieving https://lists.wikimedia.org/pipermail/wiki-research-l/2005-December.txt.gz'\n",
        "200 - writing file to archives/wiki-research-l/2005-December.txt.gz"
       ]
      },
      {
       "output_type": "stream",
       "stream": "stdout",
       "text": [
        "\n",
        "'retrieving https://lists.wikimedia.org/pipermail/wiki-research-l/2005-November.txt.gz'"
       ]
      },
      {
       "output_type": "stream",
       "stream": "stdout",
       "text": [
        "\n",
        "200 - writing file to archives/wiki-research-l/2005-November.txt.gz"
       ]
      },
      {
       "output_type": "stream",
       "stream": "stdout",
       "text": [
        "\n",
        "'retrieving https://lists.wikimedia.org/pipermail/wiki-research-l/2005-October.txt.gz'\n",
        "200 - writing file to archives/wiki-research-l/2005-October.txt.gz"
       ]
      },
      {
       "output_type": "stream",
       "stream": "stdout",
       "text": [
        "\n",
        "'retrieving https://lists.wikimedia.org/pipermail/wiki-research-l/2005-September.txt.gz'\n",
        "200 - writing file to archives/wiki-research-l/2005-September.txt.gz"
       ]
      },
      {
       "output_type": "stream",
       "stream": "stdout",
       "text": [
        "\n",
        "'retrieving https://lists.wikimedia.org/pipermail/wiki-research-l/2005-August.txt.gz'\n",
        "200 - writing file to archives/wiki-research-l/2005-August.txt.gz"
       ]
      },
      {
       "output_type": "stream",
       "stream": "stdout",
       "text": [
        "\n",
        "'retrieving https://lists.wikimedia.org/pipermail/wiki-research-l/2005-July.txt.gz'\n",
        "200 - writing file to archives/wiki-research-l/2005-July.txt.gz"
       ]
      },
      {
       "output_type": "stream",
       "stream": "stdout",
       "text": [
        "\n",
        "'retrieving https://lists.wikimedia.org/pipermail/wiki-research-l/2005-June.txt.gz'\n",
        "200 - writing file to archives/wiki-research-l/2005-June.txt.gz"
       ]
      },
      {
       "output_type": "stream",
       "stream": "stdout",
       "text": [
        "\n",
        "unzipping 114 archive files"
       ]
      },
      {
       "output_type": "stream",
       "stream": "stdout",
       "text": [
        "\n",
        "Opening 114 archive files"
       ]
      },
      {
       "output_type": "stream",
       "stream": "stdout",
       "text": [
        "\n"
       ]
      }
     ],
     "prompt_number": 19
    },
    {
     "cell_type": "markdown",
     "metadata": {},
     "source": [
      "###This saves to .csv:###\n",
      "#####Don't try to read in Excel, the size of some messages is too large!#####"
     ]
    },
    {
     "cell_type": "code",
     "collapsed": false,
     "input": [
      "import csv\n",
      "count = 0\n",
      "with open('Justificatory_Claims_raw3.csv', 'wb') as fout:\n",
      "    writer = csv.writer(fout)\n",
      "    for key, value in data_dict.items():\n",
      "        count += 1\n",
      "        writer.writerow([key, value])\n",
      "print count"
     ],
     "language": "python",
     "metadata": {},
     "outputs": [
      {
       "output_type": "stream",
       "stream": "stdout",
       "text": [
        "2410\n"
       ]
      }
     ],
     "prompt_number": 20
    },
    {
     "cell_type": "code",
     "collapsed": false,
     "input": [],
     "language": "python",
     "metadata": {},
     "outputs": []
    }
   ],
   "metadata": {}
  }
 ]
}